{
 "cells": [
  {
   "cell_type": "markdown",
   "id": "54fb4a64",
   "metadata": {},
   "source": [
    "# Lending Club Case Study"
   ]
  },
  {
   "cell_type": "markdown",
   "id": "0c5a1666",
   "metadata": {},
   "source": [
    "### Table of Contents\n",
    "\n",
    "1. [Introduction](#1.-Introduction)\n",
    "2. [Setup & Data Understanding](#2.-Setup-&-Data-Understanding)<br />\n",
    "    a. [Loading the data for analysis](#2a.-Loading-the-data-for-analysis)<br />\n",
    "    b. [Understanding the data](#2b.-Understanding-the-data)\n",
    "3. [Data Cleaning](#3.-Data-Cleaning)\n",
    "4. [Univariate Analysis](#4.-Univariate-Analysis)\n",
    "5. [Segmented Univariate Analysis](#5.-Segmented-Univariate-Analysis)\n",
    "6. [Biariate Analysis](#6.-Bivariate-Analysis)\n",
    "7. [Conclusion](#7.-Conclusion)"
   ]
  },
  {
   "cell_type": "markdown",
   "id": "ca3338f6",
   "metadata": {},
   "source": [
    "## 1. Introduction"
   ]
  },
  {
   "cell_type": "markdown",
   "id": "f4b793bf",
   "metadata": {},
   "source": [
    "The goal of this case study is to determine atleast 5 driver variables which are strong indicators of default."
   ]
  },
  {
   "cell_type": "markdown",
   "id": "236745ae",
   "metadata": {},
   "source": [
    "---"
   ]
  },
  {
   "cell_type": "markdown",
   "id": "25f8779a",
   "metadata": {},
   "source": [
    "## 2. Setup & Data Understanding"
   ]
  },
  {
   "cell_type": "markdown",
   "id": "5c17ff9a",
   "metadata": {},
   "source": [
    "### 2a. Loading the data for analysis"
   ]
  },
  {
   "cell_type": "code",
   "execution_count": 105,
   "id": "0b2dda38",
   "metadata": {},
   "outputs": [],
   "source": [
    "# Import the libraries required for performing the analysis\n",
    "import numpy as np, pandas as pd, matplotlib.pyplot as plt, seaborn as sns"
   ]
  },
  {
   "cell_type": "code",
   "execution_count": 106,
   "id": "76c2e30f",
   "metadata": {},
   "outputs": [],
   "source": [
    "# Read the dataset file into a Pandas Dataframe\n",
    "loan_dataset = pd.read_csv('./loan.csv', low_memory=False)"
   ]
  },
  {
   "cell_type": "code",
   "execution_count": 107,
   "id": "fed0862b",
   "metadata": {},
   "outputs": [
    {
     "data": {
      "text/html": [
       "<div>\n",
       "<style scoped>\n",
       "    .dataframe tbody tr th:only-of-type {\n",
       "        vertical-align: middle;\n",
       "    }\n",
       "\n",
       "    .dataframe tbody tr th {\n",
       "        vertical-align: top;\n",
       "    }\n",
       "\n",
       "    .dataframe thead th {\n",
       "        text-align: right;\n",
       "    }\n",
       "</style>\n",
       "<table border=\"1\" class=\"dataframe\">\n",
       "  <thead>\n",
       "    <tr style=\"text-align: right;\">\n",
       "      <th></th>\n",
       "      <th>id</th>\n",
       "      <th>member_id</th>\n",
       "      <th>loan_amnt</th>\n",
       "      <th>funded_amnt</th>\n",
       "      <th>funded_amnt_inv</th>\n",
       "      <th>term</th>\n",
       "      <th>int_rate</th>\n",
       "      <th>installment</th>\n",
       "      <th>grade</th>\n",
       "      <th>sub_grade</th>\n",
       "      <th>...</th>\n",
       "      <th>num_tl_90g_dpd_24m</th>\n",
       "      <th>num_tl_op_past_12m</th>\n",
       "      <th>pct_tl_nvr_dlq</th>\n",
       "      <th>percent_bc_gt_75</th>\n",
       "      <th>pub_rec_bankruptcies</th>\n",
       "      <th>tax_liens</th>\n",
       "      <th>tot_hi_cred_lim</th>\n",
       "      <th>total_bal_ex_mort</th>\n",
       "      <th>total_bc_limit</th>\n",
       "      <th>total_il_high_credit_limit</th>\n",
       "    </tr>\n",
       "  </thead>\n",
       "  <tbody>\n",
       "    <tr>\n",
       "      <th>21538</th>\n",
       "      <td>642665</td>\n",
       "      <td>822616</td>\n",
       "      <td>4125</td>\n",
       "      <td>4125</td>\n",
       "      <td>4125.000000</td>\n",
       "      <td>60 months</td>\n",
       "      <td>9.99%</td>\n",
       "      <td>87.63</td>\n",
       "      <td>B</td>\n",
       "      <td>B4</td>\n",
       "      <td>...</td>\n",
       "      <td>NaN</td>\n",
       "      <td>NaN</td>\n",
       "      <td>NaN</td>\n",
       "      <td>NaN</td>\n",
       "      <td>0.0</td>\n",
       "      <td>0.0</td>\n",
       "      <td>NaN</td>\n",
       "      <td>NaN</td>\n",
       "      <td>NaN</td>\n",
       "      <td>NaN</td>\n",
       "    </tr>\n",
       "    <tr>\n",
       "      <th>21309</th>\n",
       "      <td>644314</td>\n",
       "      <td>824498</td>\n",
       "      <td>10750</td>\n",
       "      <td>10750</td>\n",
       "      <td>10733.903490</td>\n",
       "      <td>36 months</td>\n",
       "      <td>6.17%</td>\n",
       "      <td>327.87</td>\n",
       "      <td>A</td>\n",
       "      <td>A3</td>\n",
       "      <td>...</td>\n",
       "      <td>NaN</td>\n",
       "      <td>NaN</td>\n",
       "      <td>NaN</td>\n",
       "      <td>NaN</td>\n",
       "      <td>0.0</td>\n",
       "      <td>0.0</td>\n",
       "      <td>NaN</td>\n",
       "      <td>NaN</td>\n",
       "      <td>NaN</td>\n",
       "      <td>NaN</td>\n",
       "    </tr>\n",
       "    <tr>\n",
       "      <th>33091</th>\n",
       "      <td>473528</td>\n",
       "      <td>598519</td>\n",
       "      <td>3000</td>\n",
       "      <td>3000</td>\n",
       "      <td>2850.000000</td>\n",
       "      <td>36 months</td>\n",
       "      <td>11.83%</td>\n",
       "      <td>99.41</td>\n",
       "      <td>B</td>\n",
       "      <td>B3</td>\n",
       "      <td>...</td>\n",
       "      <td>NaN</td>\n",
       "      <td>NaN</td>\n",
       "      <td>NaN</td>\n",
       "      <td>NaN</td>\n",
       "      <td>0.0</td>\n",
       "      <td>0.0</td>\n",
       "      <td>NaN</td>\n",
       "      <td>NaN</td>\n",
       "      <td>NaN</td>\n",
       "      <td>NaN</td>\n",
       "    </tr>\n",
       "    <tr>\n",
       "      <th>37317</th>\n",
       "      <td>383733</td>\n",
       "      <td>414214</td>\n",
       "      <td>10000</td>\n",
       "      <td>10000</td>\n",
       "      <td>9825.000000</td>\n",
       "      <td>36 months</td>\n",
       "      <td>11.89%</td>\n",
       "      <td>331.64</td>\n",
       "      <td>B</td>\n",
       "      <td>B4</td>\n",
       "      <td>...</td>\n",
       "      <td>NaN</td>\n",
       "      <td>NaN</td>\n",
       "      <td>NaN</td>\n",
       "      <td>NaN</td>\n",
       "      <td>0.0</td>\n",
       "      <td>0.0</td>\n",
       "      <td>NaN</td>\n",
       "      <td>NaN</td>\n",
       "      <td>NaN</td>\n",
       "      <td>NaN</td>\n",
       "    </tr>\n",
       "    <tr>\n",
       "      <th>28966</th>\n",
       "      <td>529380</td>\n",
       "      <td>670986</td>\n",
       "      <td>15000</td>\n",
       "      <td>9975</td>\n",
       "      <td>9832.467958</td>\n",
       "      <td>60 months</td>\n",
       "      <td>12.73%</td>\n",
       "      <td>225.59</td>\n",
       "      <td>C</td>\n",
       "      <td>C1</td>\n",
       "      <td>...</td>\n",
       "      <td>NaN</td>\n",
       "      <td>NaN</td>\n",
       "      <td>NaN</td>\n",
       "      <td>NaN</td>\n",
       "      <td>0.0</td>\n",
       "      <td>0.0</td>\n",
       "      <td>NaN</td>\n",
       "      <td>NaN</td>\n",
       "      <td>NaN</td>\n",
       "      <td>NaN</td>\n",
       "    </tr>\n",
       "  </tbody>\n",
       "</table>\n",
       "<p>5 rows × 111 columns</p>\n",
       "</div>"
      ],
      "text/plain": [
       "           id  member_id  loan_amnt  funded_amnt  funded_amnt_inv        term  \\\n",
       "21538  642665     822616       4125         4125      4125.000000   60 months   \n",
       "21309  644314     824498      10750        10750     10733.903490   36 months   \n",
       "33091  473528     598519       3000         3000      2850.000000   36 months   \n",
       "37317  383733     414214      10000        10000      9825.000000   36 months   \n",
       "28966  529380     670986      15000         9975      9832.467958   60 months   \n",
       "\n",
       "      int_rate  installment grade sub_grade  ... num_tl_90g_dpd_24m  \\\n",
       "21538    9.99%        87.63     B        B4  ...                NaN   \n",
       "21309    6.17%       327.87     A        A3  ...                NaN   \n",
       "33091   11.83%        99.41     B        B3  ...                NaN   \n",
       "37317   11.89%       331.64     B        B4  ...                NaN   \n",
       "28966   12.73%       225.59     C        C1  ...                NaN   \n",
       "\n",
       "      num_tl_op_past_12m pct_tl_nvr_dlq  percent_bc_gt_75  \\\n",
       "21538                NaN            NaN               NaN   \n",
       "21309                NaN            NaN               NaN   \n",
       "33091                NaN            NaN               NaN   \n",
       "37317                NaN            NaN               NaN   \n",
       "28966                NaN            NaN               NaN   \n",
       "\n",
       "      pub_rec_bankruptcies tax_liens tot_hi_cred_lim total_bal_ex_mort  \\\n",
       "21538                  0.0       0.0             NaN               NaN   \n",
       "21309                  0.0       0.0             NaN               NaN   \n",
       "33091                  0.0       0.0             NaN               NaN   \n",
       "37317                  0.0       0.0             NaN               NaN   \n",
       "28966                  0.0       0.0             NaN               NaN   \n",
       "\n",
       "      total_bc_limit total_il_high_credit_limit  \n",
       "21538            NaN                        NaN  \n",
       "21309            NaN                        NaN  \n",
       "33091            NaN                        NaN  \n",
       "37317            NaN                        NaN  \n",
       "28966            NaN                        NaN  \n",
       "\n",
       "[5 rows x 111 columns]"
      ]
     },
     "execution_count": 107,
     "metadata": {},
     "output_type": "execute_result"
    }
   ],
   "source": [
    "# Sample the dataset to get a preview of different columns that exist in the dataset\n",
    "loan_dataset.sample(5)"
   ]
  },
  {
   "cell_type": "markdown",
   "id": "c67d835c",
   "metadata": {},
   "source": [
    "### 2b. Understanding the data"
   ]
  },
  {
   "cell_type": "code",
   "execution_count": 108,
   "id": "470f5005",
   "metadata": {},
   "outputs": [
    {
     "data": {
      "text/plain": [
       "(39717, 111)"
      ]
     },
     "execution_count": 108,
     "metadata": {},
     "output_type": "execute_result"
    }
   ],
   "source": [
    "loan_dataset.shape"
   ]
  },
  {
   "cell_type": "code",
   "execution_count": 109,
   "id": "b9a26596",
   "metadata": {},
   "outputs": [],
   "source": [
    "# Load the data dictionary as a Pandas Dataframe for easier reference during analysis\n",
    "data_dictionary = pd.read_excel('./Data_Dictionary.xlsx', sheet_name='LoanStats')"
   ]
  },
  {
   "cell_type": "code",
   "execution_count": 110,
   "id": "7e5ece0a",
   "metadata": {},
   "outputs": [],
   "source": [
    "# Create a method that can be called with the column names to get the column definitions\n",
    "def get_column_definition(column_list):\n",
    "    return data_dictionary[data_dictionary.LoanStatNew.isin(column_list)]"
   ]
  },
  {
   "cell_type": "code",
   "execution_count": 111,
   "id": "5dcdee8c",
   "metadata": {},
   "outputs": [
    {
     "data": {
      "text/html": [
       "<div>\n",
       "<style scoped>\n",
       "    .dataframe tbody tr th:only-of-type {\n",
       "        vertical-align: middle;\n",
       "    }\n",
       "\n",
       "    .dataframe tbody tr th {\n",
       "        vertical-align: top;\n",
       "    }\n",
       "\n",
       "    .dataframe thead th {\n",
       "        text-align: right;\n",
       "    }\n",
       "</style>\n",
       "<table border=\"1\" class=\"dataframe\">\n",
       "  <thead>\n",
       "    <tr style=\"text-align: right;\">\n",
       "      <th></th>\n",
       "      <th>LoanStatNew</th>\n",
       "      <th>Description</th>\n",
       "    </tr>\n",
       "  </thead>\n",
       "  <tbody>\n",
       "    <tr>\n",
       "      <th>42</th>\n",
       "      <td>loan_status</td>\n",
       "      <td>Current status of the loan</td>\n",
       "    </tr>\n",
       "  </tbody>\n",
       "</table>\n",
       "</div>"
      ],
      "text/plain": [
       "    LoanStatNew                 Description\n",
       "42  loan_status  Current status of the loan"
      ]
     },
     "execution_count": 111,
     "metadata": {},
     "output_type": "execute_result"
    }
   ],
   "source": [
    "# Verify that the above method is working\n",
    "get_column_definition(['loan_status'])"
   ]
  },
  {
   "cell_type": "code",
   "execution_count": 112,
   "id": "1791f39a",
   "metadata": {},
   "outputs": [
    {
     "data": {
      "text/plain": [
       "array(['Fully Paid', 'Charged Off', 'Current'], dtype=object)"
      ]
     },
     "execution_count": 112,
     "metadata": {},
     "output_type": "execute_result"
    }
   ],
   "source": [
    "loan_dataset.loan_status.unique()"
   ]
  },
  {
   "cell_type": "markdown",
   "id": "8e29bf9a",
   "metadata": {},
   "source": [
    "- The dataset has __111 columns__ and __39, 717 rows__. \n",
    "- From the data sample from step 2a, it looks like there are a lot of columns on the right which are empty. \n",
    "- Looking at the data dictionary, the target variable seems to be `loan_status`, which indicates the current status of a loan. If the value of `loan_status` for a particular loan is `Charged Off`, it indicates a default. "
   ]
  },
  {
   "cell_type": "markdown",
   "id": "20971001",
   "metadata": {},
   "source": [
    "---"
   ]
  },
  {
   "cell_type": "markdown",
   "id": "cafcc3ec",
   "metadata": {},
   "source": [
    "## 3. Data Cleaning"
   ]
  },
  {
   "cell_type": "markdown",
   "id": "33b984e9",
   "metadata": {},
   "source": [
    "### 3a. Drop Empty and mostly empty columns"
   ]
  },
  {
   "cell_type": "markdown",
   "id": "0c0c6d7f",
   "metadata": {},
   "source": [
    "- From step 2a, it can be seen that there are a lot of columns that are empty. Since these empty columns do not add any value to the analysis they can be dropped. "
   ]
  },
  {
   "cell_type": "code",
   "execution_count": 113,
   "id": "1f6a25a8",
   "metadata": {},
   "outputs": [
    {
     "data": {
      "text/plain": [
       "mths_since_last_delinq             64.662487\n",
       "mths_since_last_record             92.985372\n",
       "next_pymnt_d                       97.129693\n",
       "mths_since_last_major_derog       100.000000\n",
       "annual_inc_joint                  100.000000\n",
       "dti_joint                         100.000000\n",
       "verification_status_joint         100.000000\n",
       "tot_coll_amt                      100.000000\n",
       "tot_cur_bal                       100.000000\n",
       "open_acc_6m                       100.000000\n",
       "open_il_6m                        100.000000\n",
       "open_il_12m                       100.000000\n",
       "open_il_24m                       100.000000\n",
       "mths_since_rcnt_il                100.000000\n",
       "total_bal_il                      100.000000\n",
       "il_util                           100.000000\n",
       "open_rv_12m                       100.000000\n",
       "open_rv_24m                       100.000000\n",
       "max_bal_bc                        100.000000\n",
       "all_util                          100.000000\n",
       "total_rev_hi_lim                  100.000000\n",
       "inq_fi                            100.000000\n",
       "total_cu_tl                       100.000000\n",
       "inq_last_12m                      100.000000\n",
       "acc_open_past_24mths              100.000000\n",
       "avg_cur_bal                       100.000000\n",
       "bc_open_to_buy                    100.000000\n",
       "bc_util                           100.000000\n",
       "mo_sin_old_il_acct                100.000000\n",
       "mo_sin_old_rev_tl_op              100.000000\n",
       "mo_sin_rcnt_rev_tl_op             100.000000\n",
       "mo_sin_rcnt_tl                    100.000000\n",
       "mort_acc                          100.000000\n",
       "mths_since_recent_bc              100.000000\n",
       "mths_since_recent_bc_dlq          100.000000\n",
       "mths_since_recent_inq             100.000000\n",
       "mths_since_recent_revol_delinq    100.000000\n",
       "num_accts_ever_120_pd             100.000000\n",
       "num_actv_bc_tl                    100.000000\n",
       "num_actv_rev_tl                   100.000000\n",
       "num_bc_sats                       100.000000\n",
       "num_bc_tl                         100.000000\n",
       "num_il_tl                         100.000000\n",
       "num_op_rev_tl                     100.000000\n",
       "num_rev_accts                     100.000000\n",
       "num_rev_tl_bal_gt_0               100.000000\n",
       "num_sats                          100.000000\n",
       "num_tl_120dpd_2m                  100.000000\n",
       "num_tl_30dpd                      100.000000\n",
       "num_tl_90g_dpd_24m                100.000000\n",
       "num_tl_op_past_12m                100.000000\n",
       "pct_tl_nvr_dlq                    100.000000\n",
       "percent_bc_gt_75                  100.000000\n",
       "tot_hi_cred_lim                   100.000000\n",
       "total_bal_ex_mort                 100.000000\n",
       "total_bc_limit                    100.000000\n",
       "total_il_high_credit_limit        100.000000\n",
       "dtype: float64"
      ]
     },
     "execution_count": 113,
     "metadata": {},
     "output_type": "execute_result"
    }
   ],
   "source": [
    "# For each column, determine the percentage of values that are empty \n",
    "# and exclude the columns which don't have any empty values. \n",
    "percentage_of_missing_values_by_column = (loan_dataset.isna().sum() / loan_dataset.shape[0]) * 100\n",
    "percentage_of_missing_values_by_column[percentage_of_missing_values_by_column > 50]"
   ]
  },
  {
   "cell_type": "markdown",
   "id": "eeeaf394",
   "metadata": {},
   "source": [
    "- Although it can be seen that `mths_since_last_delinq` has approximately __64.6%__ of the values missing, it could be one of the driver variables for loan default. \n",
    "- Most of the other columns have more than 90% of the values missing and hence can be dropped."
   ]
  },
  {
   "cell_type": "code",
   "execution_count": 114,
   "id": "c56524d3",
   "metadata": {},
   "outputs": [],
   "source": [
    "# Dropping columns where number of missing values is greater than 90%. \n",
    "columns_to_drop = list(percentage_of_missing_values_by_column[percentage_of_missing_values_by_column > 90].index)\n",
    "loan_dataset.drop(columns_to_drop, axis='columns', inplace=True)"
   ]
  },
  {
   "cell_type": "code",
   "execution_count": 115,
   "id": "938e3b86",
   "metadata": {},
   "outputs": [
    {
     "data": {
      "text/plain": [
       "(39717, 55)"
      ]
     },
     "execution_count": 115,
     "metadata": {},
     "output_type": "execute_result"
    }
   ],
   "source": [
    "loan_dataset.shape"
   ]
  },
  {
   "cell_type": "markdown",
   "id": "f6dbc51f",
   "metadata": {},
   "source": [
    "As can be seen from the new shape, 111 - 55 = __56 columns__ (~50% of the columns) have been dropped as the number of missing values were greater than 90%. "
   ]
  },
  {
   "cell_type": "markdown",
   "id": "af1c482a",
   "metadata": {},
   "source": [
    "### 3b. Drop columns with only one value"
   ]
  },
  {
   "cell_type": "code",
   "execution_count": 116,
   "id": "e6da939c",
   "metadata": {},
   "outputs": [
    {
     "data": {
      "text/plain": [
       "['pymnt_plan',\n",
       " 'initial_list_status',\n",
       " 'policy_code',\n",
       " 'application_type',\n",
       " 'acc_now_delinq',\n",
       " 'delinq_amnt']"
      ]
     },
     "execution_count": 116,
     "metadata": {},
     "output_type": "execute_result"
    }
   ],
   "source": [
    "unique_value_count_by_column = {column: loan_dataset[column].unique().size for column in loan_dataset.columns}\n",
    "single_valued_columns = [ k for (k,v) in unique_value_count_by_column.items() if v == 1 ]\n",
    "single_valued_columns"
   ]
  },
  {
   "cell_type": "markdown",
   "id": "898ea703",
   "metadata": {},
   "source": [
    "The following columns have only a single value and hence can be dropped from the analysis. "
   ]
  },
  {
   "cell_type": "code",
   "execution_count": 117,
   "id": "aeb32596",
   "metadata": {},
   "outputs": [],
   "source": [
    "# Drop the columns that only have a single value as they aren't useful for analysis. \n",
    "loan_dataset.drop(single_valued_columns, axis='columns', inplace=True)"
   ]
  },
  {
   "cell_type": "code",
   "execution_count": 118,
   "id": "6487b379",
   "metadata": {},
   "outputs": [
    {
     "data": {
      "text/plain": [
       "(39717, 49)"
      ]
     },
     "execution_count": 118,
     "metadata": {},
     "output_type": "execute_result"
    }
   ],
   "source": [
    "loan_dataset.shape"
   ]
  },
  {
   "cell_type": "markdown",
   "id": "e4629ad3",
   "metadata": {},
   "source": [
    "- After removing the 6 columns having only one value, the total count of columns now stands at 49. "
   ]
  },
  {
   "cell_type": "markdown",
   "id": "69fb72fb",
   "metadata": {},
   "source": [
    "### 3c. Fixing column data types"
   ]
  },
  {
   "cell_type": "code",
   "execution_count": 119,
   "id": "03694cb7",
   "metadata": {},
   "outputs": [
    {
     "name": "stdout",
     "output_type": "stream",
     "text": [
      "<class 'pandas.core.frame.DataFrame'>\n",
      "RangeIndex: 39717 entries, 0 to 39716\n",
      "Data columns (total 49 columns):\n",
      " #   Column                      Non-Null Count  Dtype  \n",
      "---  ------                      --------------  -----  \n",
      " 0   id                          39717 non-null  int64  \n",
      " 1   member_id                   39717 non-null  int64  \n",
      " 2   loan_amnt                   39717 non-null  int64  \n",
      " 3   funded_amnt                 39717 non-null  int64  \n",
      " 4   funded_amnt_inv             39717 non-null  float64\n",
      " 5   term                        39717 non-null  object \n",
      " 6   int_rate                    39717 non-null  object \n",
      " 7   installment                 39717 non-null  float64\n",
      " 8   grade                       39717 non-null  object \n",
      " 9   sub_grade                   39717 non-null  object \n",
      " 10  emp_title                   37258 non-null  object \n",
      " 11  emp_length                  38642 non-null  object \n",
      " 12  home_ownership              39717 non-null  object \n",
      " 13  annual_inc                  39717 non-null  float64\n",
      " 14  verification_status         39717 non-null  object \n",
      " 15  issue_d                     39717 non-null  object \n",
      " 16  loan_status                 39717 non-null  object \n",
      " 17  url                         39717 non-null  object \n",
      " 18  desc                        26777 non-null  object \n",
      " 19  purpose                     39717 non-null  object \n",
      " 20  title                       39706 non-null  object \n",
      " 21  zip_code                    39717 non-null  object \n",
      " 22  addr_state                  39717 non-null  object \n",
      " 23  dti                         39717 non-null  float64\n",
      " 24  delinq_2yrs                 39717 non-null  int64  \n",
      " 25  earliest_cr_line            39717 non-null  object \n",
      " 26  inq_last_6mths              39717 non-null  int64  \n",
      " 27  mths_since_last_delinq      14035 non-null  float64\n",
      " 28  open_acc                    39717 non-null  int64  \n",
      " 29  pub_rec                     39717 non-null  int64  \n",
      " 30  revol_bal                   39717 non-null  int64  \n",
      " 31  revol_util                  39667 non-null  object \n",
      " 32  total_acc                   39717 non-null  int64  \n",
      " 33  out_prncp                   39717 non-null  float64\n",
      " 34  out_prncp_inv               39717 non-null  float64\n",
      " 35  total_pymnt                 39717 non-null  float64\n",
      " 36  total_pymnt_inv             39717 non-null  float64\n",
      " 37  total_rec_prncp             39717 non-null  float64\n",
      " 38  total_rec_int               39717 non-null  float64\n",
      " 39  total_rec_late_fee          39717 non-null  float64\n",
      " 40  recoveries                  39717 non-null  float64\n",
      " 41  collection_recovery_fee     39717 non-null  float64\n",
      " 42  last_pymnt_d                39646 non-null  object \n",
      " 43  last_pymnt_amnt             39717 non-null  float64\n",
      " 44  last_credit_pull_d          39715 non-null  object \n",
      " 45  collections_12_mths_ex_med  39661 non-null  float64\n",
      " 46  chargeoff_within_12_mths    39661 non-null  float64\n",
      " 47  pub_rec_bankruptcies        39020 non-null  float64\n",
      " 48  tax_liens                   39678 non-null  float64\n",
      "dtypes: float64(19), int64(10), object(20)\n",
      "memory usage: 14.8+ MB\n"
     ]
    }
   ],
   "source": [
    "# Get the column information for dataframe\n",
    "loan_dataset.info()"
   ]
  },
  {
   "cell_type": "markdown",
   "id": "c6538c49",
   "metadata": {},
   "source": [
    "From the info output above, it can be noticed that many of the columns are of data type `object`. In order to proceed in a organized fashion, the analysis can begin with the columns having `object` datatype. "
   ]
  },
  {
   "cell_type": "code",
   "execution_count": 120,
   "id": "c54ce911",
   "metadata": {},
   "outputs": [
    {
     "data": {
      "text/html": [
       "<div>\n",
       "<style scoped>\n",
       "    .dataframe tbody tr th:only-of-type {\n",
       "        vertical-align: middle;\n",
       "    }\n",
       "\n",
       "    .dataframe tbody tr th {\n",
       "        vertical-align: top;\n",
       "    }\n",
       "\n",
       "    .dataframe thead th {\n",
       "        text-align: right;\n",
       "    }\n",
       "</style>\n",
       "<table border=\"1\" class=\"dataframe\">\n",
       "  <thead>\n",
       "    <tr style=\"text-align: right;\">\n",
       "      <th></th>\n",
       "      <th>0</th>\n",
       "    </tr>\n",
       "  </thead>\n",
       "  <tbody>\n",
       "    <tr>\n",
       "      <th>term</th>\n",
       "      <td>36 months</td>\n",
       "    </tr>\n",
       "    <tr>\n",
       "      <th>int_rate</th>\n",
       "      <td>10.65%</td>\n",
       "    </tr>\n",
       "    <tr>\n",
       "      <th>grade</th>\n",
       "      <td>B</td>\n",
       "    </tr>\n",
       "    <tr>\n",
       "      <th>sub_grade</th>\n",
       "      <td>B2</td>\n",
       "    </tr>\n",
       "    <tr>\n",
       "      <th>emp_title</th>\n",
       "      <td>NaN</td>\n",
       "    </tr>\n",
       "    <tr>\n",
       "      <th>emp_length</th>\n",
       "      <td>10+ years</td>\n",
       "    </tr>\n",
       "    <tr>\n",
       "      <th>home_ownership</th>\n",
       "      <td>RENT</td>\n",
       "    </tr>\n",
       "    <tr>\n",
       "      <th>verification_status</th>\n",
       "      <td>Verified</td>\n",
       "    </tr>\n",
       "    <tr>\n",
       "      <th>issue_d</th>\n",
       "      <td>Dec-11</td>\n",
       "    </tr>\n",
       "    <tr>\n",
       "      <th>loan_status</th>\n",
       "      <td>Fully Paid</td>\n",
       "    </tr>\n",
       "    <tr>\n",
       "      <th>url</th>\n",
       "      <td>https://lendingclub.com/browse/loanDetail.acti...</td>\n",
       "    </tr>\n",
       "    <tr>\n",
       "      <th>desc</th>\n",
       "      <td>Borrower added on 12/22/11 &gt; I need to upgra...</td>\n",
       "    </tr>\n",
       "    <tr>\n",
       "      <th>purpose</th>\n",
       "      <td>credit_card</td>\n",
       "    </tr>\n",
       "    <tr>\n",
       "      <th>title</th>\n",
       "      <td>Computer</td>\n",
       "    </tr>\n",
       "    <tr>\n",
       "      <th>zip_code</th>\n",
       "      <td>860xx</td>\n",
       "    </tr>\n",
       "    <tr>\n",
       "      <th>addr_state</th>\n",
       "      <td>AZ</td>\n",
       "    </tr>\n",
       "    <tr>\n",
       "      <th>earliest_cr_line</th>\n",
       "      <td>Jan-85</td>\n",
       "    </tr>\n",
       "    <tr>\n",
       "      <th>revol_util</th>\n",
       "      <td>83.70%</td>\n",
       "    </tr>\n",
       "    <tr>\n",
       "      <th>last_pymnt_d</th>\n",
       "      <td>Jan-15</td>\n",
       "    </tr>\n",
       "    <tr>\n",
       "      <th>last_credit_pull_d</th>\n",
       "      <td>May-16</td>\n",
       "    </tr>\n",
       "  </tbody>\n",
       "</table>\n",
       "</div>"
      ],
      "text/plain": [
       "                                                                     0\n",
       "term                                                         36 months\n",
       "int_rate                                                        10.65%\n",
       "grade                                                                B\n",
       "sub_grade                                                           B2\n",
       "emp_title                                                          NaN\n",
       "emp_length                                                   10+ years\n",
       "home_ownership                                                    RENT\n",
       "verification_status                                           Verified\n",
       "issue_d                                                         Dec-11\n",
       "loan_status                                                 Fully Paid\n",
       "url                  https://lendingclub.com/browse/loanDetail.acti...\n",
       "desc                   Borrower added on 12/22/11 > I need to upgra...\n",
       "purpose                                                    credit_card\n",
       "title                                                         Computer\n",
       "zip_code                                                         860xx\n",
       "addr_state                                                          AZ\n",
       "earliest_cr_line                                                Jan-85\n",
       "revol_util                                                      83.70%\n",
       "last_pymnt_d                                                    Jan-15\n",
       "last_credit_pull_d                                              May-16"
      ]
     },
     "execution_count": 120,
     "metadata": {},
     "output_type": "execute_result"
    }
   ],
   "source": [
    "# Show all the columns that are of data type object\n",
    "loan_dataset.select_dtypes('object').head(1).transpose()"
   ]
  },
  {
   "cell_type": "markdown",
   "id": "df4f1e5b",
   "metadata": {},
   "source": [
    "- There are 20 columns which are of data type `object`. \n",
    "- Looking at the columns, it appears the following columns can be better analyzed with a different data type. \n",
    "<table width=\"100%\">\n",
    "    <tr>\n",
    "        <th>Column</th>\n",
    "        <th>Comment</th>\n",
    "    </tr>\n",
    "    <tr>\n",
    "        <td>term</td>\n",
    "        <td>The duration of the loan should be of integer data type.</td>\n",
    "    </tr>\n",
    "    <tr>\n",
    "        <td>int_rate</td>\n",
    "        <td>The loan interest rate should be of float data type.</td>\n",
    "    </tr>\n",
    "    <tr>\n",
    "        <td>emp_length</td>\n",
    "        <td>Although it seems like this can be an integer, it's better left off as a string since it can be considered as an ordered categorical variable.</td>\n",
    "    </tr>\n",
    "    <tr>\n",
    "        <td>issue_d</td>\n",
    "        <td>Loan Issue Date can be transformed to 2 columns: `issue_month` and `issue_year`</td>\n",
    "    </tr>\n",
    "</table>"
   ]
  },
  {
   "cell_type": "markdown",
   "id": "1c41bd5d",
   "metadata": {},
   "source": [
    "### 3d. Handling missing values"
   ]
  },
  {
   "cell_type": "code",
   "execution_count": 121,
   "id": "cf0967e3",
   "metadata": {},
   "outputs": [],
   "source": [
    "# Get the column wise percentage of missing values again. \n",
    "percentage_of_missing_values_by_column = (loan_dataset.isna().sum() / loan_dataset.shape[0]) * 100"
   ]
  },
  {
   "cell_type": "code",
   "execution_count": 122,
   "id": "a077e42a",
   "metadata": {},
   "outputs": [
    {
     "data": {
      "text/plain": [
       "mths_since_last_delinq        64.662487\n",
       "desc                          32.580507\n",
       "emp_title                      6.191303\n",
       "emp_length                     2.706650\n",
       "pub_rec_bankruptcies           1.754916\n",
       "last_pymnt_d                   0.178765\n",
       "collections_12_mths_ex_med     0.140998\n",
       "chargeoff_within_12_mths       0.140998\n",
       "revol_util                     0.125891\n",
       "tax_liens                      0.098195\n",
       "title                          0.027696\n",
       "last_credit_pull_d             0.005036\n",
       "dtype: float64"
      ]
     },
     "execution_count": 122,
     "metadata": {},
     "output_type": "execute_result"
    }
   ],
   "source": [
    "# Columns that have missing values with the percentage of values that are missing\n",
    "percentage_of_missing_values_by_column[percentage_of_missing_values_by_column > 0].sort_values(ascending=False)"
   ]
  },
  {
   "cell_type": "markdown",
   "id": "3792c097",
   "metadata": {},
   "source": [
    "---"
   ]
  },
  {
   "cell_type": "markdown",
   "id": "e331c98b",
   "metadata": {},
   "source": [
    "## 4. Univariate Analysis"
   ]
  },
  {
   "cell_type": "markdown",
   "id": "9353a5f0",
   "metadata": {},
   "source": [
    "---"
   ]
  },
  {
   "cell_type": "markdown",
   "id": "87e00672",
   "metadata": {},
   "source": [
    "## 5. Segmented Univariate Analysis"
   ]
  },
  {
   "cell_type": "markdown",
   "id": "9e629eb6",
   "metadata": {},
   "source": [
    "---"
   ]
  },
  {
   "cell_type": "markdown",
   "id": "e24a6620",
   "metadata": {},
   "source": [
    "## 6. Bivariate Analysis"
   ]
  },
  {
   "cell_type": "markdown",
   "id": "e8278ba9",
   "metadata": {},
   "source": [
    "---"
   ]
  },
  {
   "cell_type": "markdown",
   "id": "5264f65e",
   "metadata": {},
   "source": [
    "## 7. Conclusion"
   ]
  }
 ],
 "metadata": {
  "kernelspec": {
   "display_name": "Python 3 (ipykernel)",
   "language": "python",
   "name": "python3"
  },
  "language_info": {
   "codemirror_mode": {
    "name": "ipython",
    "version": 3
   },
   "file_extension": ".py",
   "mimetype": "text/x-python",
   "name": "python",
   "nbconvert_exporter": "python",
   "pygments_lexer": "ipython3",
   "version": "3.9.13"
  }
 },
 "nbformat": 4,
 "nbformat_minor": 5
}
